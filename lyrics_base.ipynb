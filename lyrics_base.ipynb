{
  "nbformat": 4,
  "nbformat_minor": 0,
  "metadata": {
    "colab": {
      "name": "lyrics_base.ipynb",
      "provenance": []
    },
    "kernelspec": {
      "name": "python3",
      "display_name": "Python 3"
    },
    "language_info": {
      "name": "python"
    }
  },
  "cells": [
    {
      "cell_type": "code",
      "metadata": {
        "colab": {
          "base_uri": "https://localhost:8080/"
        },
        "id": "5yLXrYmqZr60",
        "outputId": "d02901f4-ed7a-43e6-d8f6-37601257c972"
      },
      "source": [
        "!pip install helper\n",
        "!pip install twython\n",
        "!pip install -U py_search\n",
        "!pip install lyricsgenius"
      ],
      "execution_count": 2,
      "outputs": [
        {
          "output_type": "stream",
          "text": [
            "Collecting helper\n",
            "  Downloading https://files.pythonhosted.org/packages/0b/c2/b4e0286e492b4551c1890a7445a1b85f3f10032673566d4c20c14dd0a280/helper-2.5.0.tar.gz\n",
            "Requirement already satisfied: pyyaml in /usr/local/lib/python3.7/dist-packages (from helper) (3.13)\n",
            "Building wheels for collected packages: helper\n",
            "  Building wheel for helper (setup.py) ... \u001b[?25l\u001b[?25hdone\n",
            "  Created wheel for helper: filename=helper-2.5.0-py2.py3-none-any.whl size=19158 sha256=b9cd2c5162032a42f3b11e8e3cf0a8ac521f7fc57ab67db348ab0b7a46dfdef8\n",
            "  Stored in directory: /root/.cache/pip/wheels/18/de/25/a8d15addb213a842c551d25dd9994aebc1e4dd97f7c681e0ea\n",
            "Successfully built helper\n",
            "Installing collected packages: helper\n",
            "Successfully installed helper-2.5.0\n",
            "Collecting twython\n",
            "  Downloading https://files.pythonhosted.org/packages/24/80/579b96dfaa9b536efde883d4f0df7ea2598a6f3117a6dd572787f4a2bcfb/twython-3.8.2-py3-none-any.whl\n",
            "Requirement already satisfied: requests>=2.1.0 in /usr/local/lib/python3.7/dist-packages (from twython) (2.23.0)\n",
            "Requirement already satisfied: requests-oauthlib>=0.4.0 in /usr/local/lib/python3.7/dist-packages (from twython) (1.3.0)\n",
            "Requirement already satisfied: certifi>=2017.4.17 in /usr/local/lib/python3.7/dist-packages (from requests>=2.1.0->twython) (2020.12.5)\n",
            "Requirement already satisfied: idna<3,>=2.5 in /usr/local/lib/python3.7/dist-packages (from requests>=2.1.0->twython) (2.10)\n",
            "Requirement already satisfied: urllib3!=1.25.0,!=1.25.1,<1.26,>=1.21.1 in /usr/local/lib/python3.7/dist-packages (from requests>=2.1.0->twython) (1.24.3)\n",
            "Requirement already satisfied: chardet<4,>=3.0.2 in /usr/local/lib/python3.7/dist-packages (from requests>=2.1.0->twython) (3.0.4)\n",
            "Requirement already satisfied: oauthlib>=3.0.0 in /usr/local/lib/python3.7/dist-packages (from requests-oauthlib>=0.4.0->twython) (3.1.0)\n",
            "Installing collected packages: twython\n",
            "Successfully installed twython-3.8.2\n",
            "Collecting py_search\n",
            "  Downloading https://files.pythonhosted.org/packages/f6/85/b44864de9c3c4e023c0b1be4e7dc292fc448339ac150aa19cfba739669ae/py_search-2.8.0-py2.py3-none-any.whl\n",
            "Requirement already satisfied, skipping upgrade: tabulate in /usr/local/lib/python3.7/dist-packages (from py_search) (0.8.9)\n",
            "Collecting munkres\n",
            "  Downloading https://files.pythonhosted.org/packages/90/ab/0301c945a704218bc9435f0e3c88884f6b19ef234d8899fb47ce1ccfd0c9/munkres-1.1.4-py2.py3-none-any.whl\n",
            "Installing collected packages: munkres, py-search\n",
            "Successfully installed munkres-1.1.4 py-search-2.8.0\n",
            "Collecting lyricsgenius\n",
            "\u001b[?25l  Downloading https://files.pythonhosted.org/packages/09/60/94f2d049789f8e44634703468ec7d752e894a358dac337d138c2b45c190d/lyricsgenius-3.0.0-py3-none-any.whl (59kB)\n",
            "\u001b[K     |████████████████████████████████| 61kB 2.7MB/s \n",
            "\u001b[?25hRequirement already satisfied: requests>=2.20.0 in /usr/local/lib/python3.7/dist-packages (from lyricsgenius) (2.23.0)\n",
            "Requirement already satisfied: beautifulsoup4>=4.6.0 in /usr/local/lib/python3.7/dist-packages (from lyricsgenius) (4.6.3)\n",
            "Requirement already satisfied: urllib3!=1.25.0,!=1.25.1,<1.26,>=1.21.1 in /usr/local/lib/python3.7/dist-packages (from requests>=2.20.0->lyricsgenius) (1.24.3)\n",
            "Requirement already satisfied: chardet<4,>=3.0.2 in /usr/local/lib/python3.7/dist-packages (from requests>=2.20.0->lyricsgenius) (3.0.4)\n",
            "Requirement already satisfied: certifi>=2017.4.17 in /usr/local/lib/python3.7/dist-packages (from requests>=2.20.0->lyricsgenius) (2020.12.5)\n",
            "Requirement already satisfied: idna<3,>=2.5 in /usr/local/lib/python3.7/dist-packages (from requests>=2.20.0->lyricsgenius) (2.10)\n",
            "Installing collected packages: lyricsgenius\n",
            "Successfully installed lyricsgenius-3.0.0\n"
          ],
          "name": "stdout"
        }
      ]
    },
    {
      "cell_type": "code",
      "metadata": {
        "id": "uq8mtfEIZozu"
      },
      "source": [
        "#libraries used to extract, clean and manipulate the data\n",
        "#from helpers import *\n",
        "import pandas as pd \n",
        "import numpy as np\n",
        "import string\n",
        "\n",
        "import requests\n",
        "\n",
        "import nltk\n",
        "from nltk.sentiment.vader import SentimentIntensityAnalyzer\n",
        "from nltk import word_tokenize\n",
        "import nltk.data"
      ],
      "execution_count": 13,
      "outputs": []
    },
    {
      "cell_type": "code",
      "metadata": {
        "id": "jpy50CsDZ3zd"
      },
      "source": [
        "import lyricsgenius as genius\n",
        "import pandas as pd\n",
        "import string \n",
        "\n",
        "import nltk\n",
        "from nltk.tokenize import word_tokenize\n",
        "from nltk.stem import WordNetLemmatizer \n",
        "from nltk.corpus import stopwords\n",
        "  \n",
        "\n",
        "\n",
        "def search_data(query,n,access_token):    \n",
        "    api = genius.Genius(access_token)\n",
        "\n",
        "    list_lyrics = []\n",
        "    list_title = []\n",
        "    list_artist = []\n",
        "    list_album = []\n",
        "    #list_year = []\n",
        "\n",
        "    artist = api.search_artist(query,max_songs=n,sort='popularity')\n",
        "    songs = artist.songs\n",
        "    for song in songs:\n",
        "        list_lyrics.append(song.lyrics)\n",
        "        list_title.append(song.title)\n",
        "        list_artist.append(song.artist)\n",
        "        #list_album.append(song.album)\n",
        "        #list_year.append(song.year)\n",
        "\n",
        "    #df = pd.DataFrame({'artist':list_artist,'title':list_title,'album':list_album,\n",
        "                        #'date':list_year,'lyric':list_lyrics})\n",
        "    df = pd.DataFrame({'artist':list_artist,'title':list_title,'lyric':list_lyrics})\n",
        "    \n",
        "    return df"
      ],
      "execution_count": 12,
      "outputs": []
    },
    {
      "cell_type": "code",
      "metadata": {
        "id": "xnz13-AfZ6wO"
      },
      "source": [
        "access_token = '48AbSrGnLHR79u6TgoSWikB1-dd779xB-2MZmPXSavrvOVDMo8pZYz7OP1Mjk6-B'\n"
      ],
      "execution_count": 9,
      "outputs": []
    },
    {
      "cell_type": "code",
      "metadata": {
        "colab": {
          "base_uri": "https://localhost:8080/"
        },
        "id": "o_JEl3G1Z8Wc",
        "outputId": "c2d6cb79-ac24-4042-83ea-c13302aef283"
      },
      "source": [
        "df0 = search_data('U2',15,access_token)"
      ],
      "execution_count": 10,
      "outputs": [
        {
          "output_type": "stream",
          "text": [
            "Searching for songs by U2...\n",
            "\n",
            "Song 1: \"One\"\n",
            "Song 2: \"With or Without You\"\n",
            "Song 3: \"I Still Haven’t Found What I’m Looking For\"\n",
            "Song 4: \"Sunday Bloody Sunday\"\n",
            "Song 5: \"Pride (In the Name of Love)\"\n",
            "Song 6: \"Beautiful Day\"\n",
            "Song 7: \"Get Out of Your Own Way\"\n",
            "Song 8: \"Song for Someone\"\n",
            "Song 9: \"Every Breaking Wave\"\n",
            "Song 10: \"Where the Streets Have No Name\"\n",
            "Song 11: \"You’re the Best Thing About Me\"\n",
            "Song 12: \"The Troubles\"\n",
            "Song 13: \"Ordinary Love\"\n",
            "Song 14: \"Vertigo\"\n",
            "Song 15: \"New Year’s Day\"\n",
            "\n",
            "Reached user-specified song limit (15).\n",
            "Done. Found 15 songs.\n"
          ],
          "name": "stdout"
        }
      ]
    },
    {
      "cell_type": "code",
      "metadata": {
        "colab": {
          "base_uri": "https://localhost:8080/",
          "height": 189
        },
        "id": "TjrkPoDpaAis",
        "outputId": "c7b744e2-48ce-48a8-9c9a-ac089ccb43a2"
      },
      "source": [
        "df0.head()"
      ],
      "execution_count": 14,
      "outputs": [
        {
          "output_type": "execute_result",
          "data": {
            "text/html": [
              "<div>\n",
              "<style scoped>\n",
              "    .dataframe tbody tr th:only-of-type {\n",
              "        vertical-align: middle;\n",
              "    }\n",
              "\n",
              "    .dataframe tbody tr th {\n",
              "        vertical-align: top;\n",
              "    }\n",
              "\n",
              "    .dataframe thead th {\n",
              "        text-align: right;\n",
              "    }\n",
              "</style>\n",
              "<table border=\"1\" class=\"dataframe\">\n",
              "  <thead>\n",
              "    <tr style=\"text-align: right;\">\n",
              "      <th></th>\n",
              "      <th>artist</th>\n",
              "      <th>title</th>\n",
              "      <th>lyric</th>\n",
              "    </tr>\n",
              "  </thead>\n",
              "  <tbody>\n",
              "    <tr>\n",
              "      <th>0</th>\n",
              "      <td>U2</td>\n",
              "      <td>One</td>\n",
              "      <td>[Verse 1]\\nIs it getting better\\nOr do you fee...</td>\n",
              "    </tr>\n",
              "    <tr>\n",
              "      <th>1</th>\n",
              "      <td>U2</td>\n",
              "      <td>With or Without You</td>\n",
              "      <td>[Verse 1]\\nSee the stone set in your eyes\\nSee...</td>\n",
              "    </tr>\n",
              "    <tr>\n",
              "      <th>2</th>\n",
              "      <td>U2</td>\n",
              "      <td>I Still Haven’t Found What I’m Looking For</td>\n",
              "      <td>[Verse 1]\\nI have climbed the highest mountain...</td>\n",
              "    </tr>\n",
              "    <tr>\n",
              "      <th>3</th>\n",
              "      <td>U2</td>\n",
              "      <td>Sunday Bloody Sunday</td>\n",
              "      <td>[Instrumental Intro]\\n\\n[Verse 1]\\nI can't bel...</td>\n",
              "    </tr>\n",
              "    <tr>\n",
              "      <th>4</th>\n",
              "      <td>U2</td>\n",
              "      <td>Pride (In the Name of Love)</td>\n",
              "      <td>[Verse 1]\\nOne man come in the name of love\\nO...</td>\n",
              "    </tr>\n",
              "  </tbody>\n",
              "</table>\n",
              "</div>"
            ],
            "text/plain": [
              "  artist  ...                                              lyric\n",
              "0     U2  ...  [Verse 1]\\nIs it getting better\\nOr do you fee...\n",
              "1     U2  ...  [Verse 1]\\nSee the stone set in your eyes\\nSee...\n",
              "2     U2  ...  [Verse 1]\\nI have climbed the highest mountain...\n",
              "3     U2  ...  [Instrumental Intro]\\n\\n[Verse 1]\\nI can't bel...\n",
              "4     U2  ...  [Verse 1]\\nOne man come in the name of love\\nO...\n",
              "\n",
              "[5 rows x 3 columns]"
            ]
          },
          "metadata": {
            "tags": []
          },
          "execution_count": 14
        }
      ]
    },
    {
      "cell_type": "code",
      "metadata": {
        "colab": {
          "base_uri": "https://localhost:8080/"
        },
        "id": "lC9TSOEhaBO6",
        "outputId": "2266186d-dc28-47bf-b5e2-26dbca823eb9"
      },
      "source": [
        "df1=search_data('Damien Rice',15,access_token)"
      ],
      "execution_count": 16,
      "outputs": [
        {
          "output_type": "stream",
          "text": [
            "Searching for songs by Damien Rice...\n",
            "\n",
            "Song 1: \"The Blower’s Daughter\"\n",
            "Song 2: \"9 Crimes\"\n",
            "Song 3: \"Delicate\"\n",
            "Song 4: \"It Takes a Lot to Know a Man\"\n",
            "Song 5: \"I Don’t Want to Change You\"\n",
            "Song 6: \"Volcano\"\n",
            "Song 7: \"Cannonball\"\n",
            "Song 8: \"Cheers Darlin’\"\n",
            "Song 9: \"Back To Her Man\"\n",
            "Song 10: \"Elephant\"\n",
            "Song 11: \"My Favourite Faded Fantasy\"\n",
            "Song 12: \"The Greatest Bastard\"\n",
            "Song 13: \"Colour Me In\"\n",
            "Song 14: \"The Professor & La Fille Danse\"\n",
            "Song 15: \"Accidental Babies\"\n",
            "\n",
            "Reached user-specified song limit (15).\n",
            "Done. Found 15 songs.\n"
          ],
          "name": "stdout"
        }
      ]
    },
    {
      "cell_type": "code",
      "metadata": {
        "colab": {
          "base_uri": "https://localhost:8080/",
          "height": 189
        },
        "id": "pK8GOuoabCAw",
        "outputId": "181d1022-2bd7-4e06-b7cf-40c5baaa0643"
      },
      "source": [
        "df1.head()"
      ],
      "execution_count": 19,
      "outputs": [
        {
          "output_type": "execute_result",
          "data": {
            "text/html": [
              "<div>\n",
              "<style scoped>\n",
              "    .dataframe tbody tr th:only-of-type {\n",
              "        vertical-align: middle;\n",
              "    }\n",
              "\n",
              "    .dataframe tbody tr th {\n",
              "        vertical-align: top;\n",
              "    }\n",
              "\n",
              "    .dataframe thead th {\n",
              "        text-align: right;\n",
              "    }\n",
              "</style>\n",
              "<table border=\"1\" class=\"dataframe\">\n",
              "  <thead>\n",
              "    <tr style=\"text-align: right;\">\n",
              "      <th></th>\n",
              "      <th>artist</th>\n",
              "      <th>title</th>\n",
              "      <th>lyric</th>\n",
              "    </tr>\n",
              "  </thead>\n",
              "  <tbody>\n",
              "    <tr>\n",
              "      <th>0</th>\n",
              "      <td>Damien Rice</td>\n",
              "      <td>The Blower’s Daughter</td>\n",
              "      <td>[Verse 1: Damien Rice]\\nAnd so it is\\nJust lik...</td>\n",
              "    </tr>\n",
              "    <tr>\n",
              "      <th>1</th>\n",
              "      <td>Damien Rice</td>\n",
              "      <td>9 Crimes</td>\n",
              "      <td>[Verse: Lisa Hannigan]\\nLeave me out with the ...</td>\n",
              "    </tr>\n",
              "    <tr>\n",
              "      <th>2</th>\n",
              "      <td>Damien Rice</td>\n",
              "      <td>Delicate</td>\n",
              "      <td>[Verse 1]\\nWe might kiss when we are alone\\nWh...</td>\n",
              "    </tr>\n",
              "    <tr>\n",
              "      <th>3</th>\n",
              "      <td>Damien Rice</td>\n",
              "      <td>It Takes a Lot to Know a Man</td>\n",
              "      <td>[Verse 1]\\nIt takes a lot to know a man\\nIt ta...</td>\n",
              "    </tr>\n",
              "    <tr>\n",
              "      <th>4</th>\n",
              "      <td>Damien Rice</td>\n",
              "      <td>I Don’t Want to Change You</td>\n",
              "      <td>[Verse 1]\\nWherever you are\\nYou know that I a...</td>\n",
              "    </tr>\n",
              "  </tbody>\n",
              "</table>\n",
              "</div>"
            ],
            "text/plain": [
              "        artist  ...                                              lyric\n",
              "0  Damien Rice  ...  [Verse 1: Damien Rice]\\nAnd so it is\\nJust lik...\n",
              "1  Damien Rice  ...  [Verse: Lisa Hannigan]\\nLeave me out with the ...\n",
              "2  Damien Rice  ...  [Verse 1]\\nWe might kiss when we are alone\\nWh...\n",
              "3  Damien Rice  ...  [Verse 1]\\nIt takes a lot to know a man\\nIt ta...\n",
              "4  Damien Rice  ...  [Verse 1]\\nWherever you are\\nYou know that I a...\n",
              "\n",
              "[5 rows x 3 columns]"
            ]
          },
          "metadata": {
            "tags": []
          },
          "execution_count": 19
        }
      ]
    },
    {
      "cell_type": "code",
      "metadata": {
        "colab": {
          "base_uri": "https://localhost:8080/"
        },
        "id": "V-vQJPiZaBdK",
        "outputId": "001f88ed-6df8-4adb-aff1-12fc7eb9805e"
      },
      "source": [
        "df2=search_data('Alanis Morissete',15,access_token)"
      ],
      "execution_count": 17,
      "outputs": [
        {
          "output_type": "stream",
          "text": [
            "Searching for songs by Alanis Morissete...\n",
            "\n",
            "Changing artist name to 'Alanis Morissette'\n",
            "Song 1: \"Ironic\"\n",
            "Song 2: \"You Oughta Know\"\n",
            "Song 3: \"Hand in My Pocket\"\n",
            "Song 4: \"Thank U\"\n",
            "Song 5: \"Ablaze\"\n",
            "Song 6: \"​Reasons I Drink\"\n",
            "Song 7: \"Head Over Feet\"\n",
            "Song 8: \"You Learn\"\n",
            "Song 9: \"All I Really Want\"\n",
            "Song 10: \"Uninvited\"\n",
            "Song 11: \"Hands Clean\"\n",
            "Song 12: \"Smiling\"\n",
            "Song 13: \"Right Through You\"\n",
            "Song 14: \"Forgiven\"\n",
            "Song 15: \"Perfect\"\n",
            "\n",
            "Reached user-specified song limit (15).\n",
            "Done. Found 15 songs.\n"
          ],
          "name": "stdout"
        }
      ]
    },
    {
      "cell_type": "code",
      "metadata": {
        "colab": {
          "base_uri": "https://localhost:8080/",
          "height": 189
        },
        "id": "u1_P0ozgbGRr",
        "outputId": "9179acf6-2d98-4f64-d15b-c76f86dca570"
      },
      "source": [
        "df2.head()"
      ],
      "execution_count": 18,
      "outputs": [
        {
          "output_type": "execute_result",
          "data": {
            "text/html": [
              "<div>\n",
              "<style scoped>\n",
              "    .dataframe tbody tr th:only-of-type {\n",
              "        vertical-align: middle;\n",
              "    }\n",
              "\n",
              "    .dataframe tbody tr th {\n",
              "        vertical-align: top;\n",
              "    }\n",
              "\n",
              "    .dataframe thead th {\n",
              "        text-align: right;\n",
              "    }\n",
              "</style>\n",
              "<table border=\"1\" class=\"dataframe\">\n",
              "  <thead>\n",
              "    <tr style=\"text-align: right;\">\n",
              "      <th></th>\n",
              "      <th>artist</th>\n",
              "      <th>title</th>\n",
              "      <th>lyric</th>\n",
              "    </tr>\n",
              "  </thead>\n",
              "  <tbody>\n",
              "    <tr>\n",
              "      <th>0</th>\n",
              "      <td>Alanis Morissette</td>\n",
              "      <td>Ironic</td>\n",
              "      <td>[Intro]\\nHey, yeah, yeah\\nYeah, ah-ah-ah, yeah...</td>\n",
              "    </tr>\n",
              "    <tr>\n",
              "      <th>1</th>\n",
              "      <td>Alanis Morissette</td>\n",
              "      <td>You Oughta Know</td>\n",
              "      <td>[Verse 1]\\nI want you to know, that I'm happy ...</td>\n",
              "    </tr>\n",
              "    <tr>\n",
              "      <th>2</th>\n",
              "      <td>Alanis Morissette</td>\n",
              "      <td>Hand in My Pocket</td>\n",
              "      <td>[Verse 1]\\nI'm broke, but I'm happy\\nI'm poor,...</td>\n",
              "    </tr>\n",
              "    <tr>\n",
              "      <th>3</th>\n",
              "      <td>Alanis Morissette</td>\n",
              "      <td>Thank U</td>\n",
              "      <td>[Verse 1]\\nHow 'bout getting off of these anti...</td>\n",
              "    </tr>\n",
              "    <tr>\n",
              "      <th>4</th>\n",
              "      <td>Alanis Morissette</td>\n",
              "      <td>Ablaze</td>\n",
              "      <td>[Verse 1]\\nFirst thing that you'll notice is s...</td>\n",
              "    </tr>\n",
              "  </tbody>\n",
              "</table>\n",
              "</div>"
            ],
            "text/plain": [
              "              artist  ...                                              lyric\n",
              "0  Alanis Morissette  ...  [Intro]\\nHey, yeah, yeah\\nYeah, ah-ah-ah, yeah...\n",
              "1  Alanis Morissette  ...  [Verse 1]\\nI want you to know, that I'm happy ...\n",
              "2  Alanis Morissette  ...  [Verse 1]\\nI'm broke, but I'm happy\\nI'm poor,...\n",
              "3  Alanis Morissette  ...  [Verse 1]\\nHow 'bout getting off of these anti...\n",
              "4  Alanis Morissette  ...  [Verse 1]\\nFirst thing that you'll notice is s...\n",
              "\n",
              "[5 rows x 3 columns]"
            ]
          },
          "metadata": {
            "tags": []
          },
          "execution_count": 18
        }
      ]
    },
    {
      "cell_type": "code",
      "metadata": {
        "colab": {
          "base_uri": "https://localhost:8080/",
          "height": 616
        },
        "id": "f6iZj_T4aGzm",
        "outputId": "0d4cc4bd-2ad1-47e8-8ba8-eec51fe5aaf4"
      },
      "source": [
        "frames = [df0,df1,df2]\n",
        "result = pd.concat(frames,ignore_index=True, sort=False)\n",
        "result.head(20)"
      ],
      "execution_count": 21,
      "outputs": [
        {
          "output_type": "execute_result",
          "data": {
            "text/html": [
              "<div>\n",
              "<style scoped>\n",
              "    .dataframe tbody tr th:only-of-type {\n",
              "        vertical-align: middle;\n",
              "    }\n",
              "\n",
              "    .dataframe tbody tr th {\n",
              "        vertical-align: top;\n",
              "    }\n",
              "\n",
              "    .dataframe thead th {\n",
              "        text-align: right;\n",
              "    }\n",
              "</style>\n",
              "<table border=\"1\" class=\"dataframe\">\n",
              "  <thead>\n",
              "    <tr style=\"text-align: right;\">\n",
              "      <th></th>\n",
              "      <th>artist</th>\n",
              "      <th>title</th>\n",
              "      <th>lyric</th>\n",
              "    </tr>\n",
              "  </thead>\n",
              "  <tbody>\n",
              "    <tr>\n",
              "      <th>0</th>\n",
              "      <td>U2</td>\n",
              "      <td>One</td>\n",
              "      <td>[Verse 1]\\nIs it getting better\\nOr do you fee...</td>\n",
              "    </tr>\n",
              "    <tr>\n",
              "      <th>1</th>\n",
              "      <td>U2</td>\n",
              "      <td>With or Without You</td>\n",
              "      <td>[Verse 1]\\nSee the stone set in your eyes\\nSee...</td>\n",
              "    </tr>\n",
              "    <tr>\n",
              "      <th>2</th>\n",
              "      <td>U2</td>\n",
              "      <td>I Still Haven’t Found What I’m Looking For</td>\n",
              "      <td>[Verse 1]\\nI have climbed the highest mountain...</td>\n",
              "    </tr>\n",
              "    <tr>\n",
              "      <th>3</th>\n",
              "      <td>U2</td>\n",
              "      <td>Sunday Bloody Sunday</td>\n",
              "      <td>[Instrumental Intro]\\n\\n[Verse 1]\\nI can't bel...</td>\n",
              "    </tr>\n",
              "    <tr>\n",
              "      <th>4</th>\n",
              "      <td>U2</td>\n",
              "      <td>Pride (In the Name of Love)</td>\n",
              "      <td>[Verse 1]\\nOne man come in the name of love\\nO...</td>\n",
              "    </tr>\n",
              "    <tr>\n",
              "      <th>5</th>\n",
              "      <td>U2</td>\n",
              "      <td>Beautiful Day</td>\n",
              "      <td>[Verse 1]\\nThe heart is a bloom, shoots up thr...</td>\n",
              "    </tr>\n",
              "    <tr>\n",
              "      <th>6</th>\n",
              "      <td>U2</td>\n",
              "      <td>Get Out of Your Own Way</td>\n",
              "      <td>[Chorus: Bono]\\nGet out of your own way, hey, ...</td>\n",
              "    </tr>\n",
              "    <tr>\n",
              "      <th>7</th>\n",
              "      <td>U2</td>\n",
              "      <td>Song for Someone</td>\n",
              "      <td>[Verse 1]\\nYou got a face not spoiled by beaut...</td>\n",
              "    </tr>\n",
              "    <tr>\n",
              "      <th>8</th>\n",
              "      <td>U2</td>\n",
              "      <td>Every Breaking Wave</td>\n",
              "      <td>[Verse 1]\\nEvery breaking wave on the shore\\nT...</td>\n",
              "    </tr>\n",
              "    <tr>\n",
              "      <th>9</th>\n",
              "      <td>U2</td>\n",
              "      <td>Where the Streets Have No Name</td>\n",
              "      <td>[Verse 1]\\nI wanna run, I want to hide\\nI wann...</td>\n",
              "    </tr>\n",
              "    <tr>\n",
              "      <th>10</th>\n",
              "      <td>U2</td>\n",
              "      <td>You’re the Best Thing About Me</td>\n",
              "      <td>[Verse 1: Bono]\\nWhen you look so good, the pa...</td>\n",
              "    </tr>\n",
              "    <tr>\n",
              "      <th>11</th>\n",
              "      <td>U2</td>\n",
              "      <td>The Troubles</td>\n",
              "      <td>[Chorus: Lykke Li]\\nSomebody stepped inside yo...</td>\n",
              "    </tr>\n",
              "    <tr>\n",
              "      <th>12</th>\n",
              "      <td>U2</td>\n",
              "      <td>Ordinary Love</td>\n",
              "      <td>[Verse 1]\\nThe sea wants to kiss the golden sh...</td>\n",
              "    </tr>\n",
              "    <tr>\n",
              "      <th>13</th>\n",
              "      <td>U2</td>\n",
              "      <td>Vertigo</td>\n",
              "      <td>[Intro]\\nUnos, dos, tres, catorce!\\n(Turn it u...</td>\n",
              "    </tr>\n",
              "    <tr>\n",
              "      <th>14</th>\n",
              "      <td>U2</td>\n",
              "      <td>New Year’s Day</td>\n",
              "      <td>[Intro]\\nYeah...\\n\\n[Verse 1]\\nAll is quiet on...</td>\n",
              "    </tr>\n",
              "    <tr>\n",
              "      <th>15</th>\n",
              "      <td>Damien Rice</td>\n",
              "      <td>The Blower’s Daughter</td>\n",
              "      <td>[Verse 1: Damien Rice]\\nAnd so it is\\nJust lik...</td>\n",
              "    </tr>\n",
              "    <tr>\n",
              "      <th>16</th>\n",
              "      <td>Damien Rice</td>\n",
              "      <td>9 Crimes</td>\n",
              "      <td>[Verse: Lisa Hannigan]\\nLeave me out with the ...</td>\n",
              "    </tr>\n",
              "    <tr>\n",
              "      <th>17</th>\n",
              "      <td>Damien Rice</td>\n",
              "      <td>Delicate</td>\n",
              "      <td>[Verse 1]\\nWe might kiss when we are alone\\nWh...</td>\n",
              "    </tr>\n",
              "    <tr>\n",
              "      <th>18</th>\n",
              "      <td>Damien Rice</td>\n",
              "      <td>It Takes a Lot to Know a Man</td>\n",
              "      <td>[Verse 1]\\nIt takes a lot to know a man\\nIt ta...</td>\n",
              "    </tr>\n",
              "    <tr>\n",
              "      <th>19</th>\n",
              "      <td>Damien Rice</td>\n",
              "      <td>I Don’t Want to Change You</td>\n",
              "      <td>[Verse 1]\\nWherever you are\\nYou know that I a...</td>\n",
              "    </tr>\n",
              "  </tbody>\n",
              "</table>\n",
              "</div>"
            ],
            "text/plain": [
              "         artist  ...                                              lyric\n",
              "0            U2  ...  [Verse 1]\\nIs it getting better\\nOr do you fee...\n",
              "1            U2  ...  [Verse 1]\\nSee the stone set in your eyes\\nSee...\n",
              "2            U2  ...  [Verse 1]\\nI have climbed the highest mountain...\n",
              "3            U2  ...  [Instrumental Intro]\\n\\n[Verse 1]\\nI can't bel...\n",
              "4            U2  ...  [Verse 1]\\nOne man come in the name of love\\nO...\n",
              "5            U2  ...  [Verse 1]\\nThe heart is a bloom, shoots up thr...\n",
              "6            U2  ...  [Chorus: Bono]\\nGet out of your own way, hey, ...\n",
              "7            U2  ...  [Verse 1]\\nYou got a face not spoiled by beaut...\n",
              "8            U2  ...  [Verse 1]\\nEvery breaking wave on the shore\\nT...\n",
              "9            U2  ...  [Verse 1]\\nI wanna run, I want to hide\\nI wann...\n",
              "10           U2  ...  [Verse 1: Bono]\\nWhen you look so good, the pa...\n",
              "11           U2  ...  [Chorus: Lykke Li]\\nSomebody stepped inside yo...\n",
              "12           U2  ...  [Verse 1]\\nThe sea wants to kiss the golden sh...\n",
              "13           U2  ...  [Intro]\\nUnos, dos, tres, catorce!\\n(Turn it u...\n",
              "14           U2  ...  [Intro]\\nYeah...\\n\\n[Verse 1]\\nAll is quiet on...\n",
              "15  Damien Rice  ...  [Verse 1: Damien Rice]\\nAnd so it is\\nJust lik...\n",
              "16  Damien Rice  ...  [Verse: Lisa Hannigan]\\nLeave me out with the ...\n",
              "17  Damien Rice  ...  [Verse 1]\\nWe might kiss when we are alone\\nWh...\n",
              "18  Damien Rice  ...  [Verse 1]\\nIt takes a lot to know a man\\nIt ta...\n",
              "19  Damien Rice  ...  [Verse 1]\\nWherever you are\\nYou know that I a...\n",
              "\n",
              "[20 rows x 3 columns]"
            ]
          },
          "metadata": {
            "tags": []
          },
          "execution_count": 21
        }
      ]
    },
    {
      "cell_type": "code",
      "metadata": {
        "id": "ba9jCoZlaHVi"
      },
      "source": [
        "result.to_csv('lyrics.csv', index = False)\n",
        "files.download('lyrics.csv')"
      ],
      "execution_count": null,
      "outputs": []
    }
  ]
}