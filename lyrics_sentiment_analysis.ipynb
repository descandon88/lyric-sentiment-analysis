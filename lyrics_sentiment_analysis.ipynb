{
  "nbformat": 4,
  "nbformat_minor": 0,
  "metadata": {
    "colab": {
      "name": "lyrics_sentiment_analysis.ipynb",
      "provenance": [],
      "authorship_tag": "ABX9TyPvHP4SVOBDXLEpsDdfYil0",
      "include_colab_link": true
    },
    "kernelspec": {
      "name": "python3",
      "display_name": "Python 3"
    },
    "language_info": {
      "name": "python"
    }
  },
  "cells": [
    {
      "cell_type": "markdown",
      "metadata": {
        "id": "view-in-github",
        "colab_type": "text"
      },
      "source": [
        "<a href=\"https://colab.research.google.com/github/descandon88/lyric-sentiment-analysis/blob/main/lyrics_sentiment_analysis.ipynb\" target=\"_parent\"><img src=\"https://colab.research.google.com/assets/colab-badge.svg\" alt=\"Open In Colab\"/></a>"
      ]
    },
    {
      "cell_type": "code",
      "metadata": {
        "id": "Wa0xpOa22LCx"
      },
      "source": [
        ""
      ],
      "execution_count": null,
      "outputs": []
    },
    {
      "cell_type": "code",
      "metadata": {
        "colab": {
          "base_uri": "https://localhost:8080/"
        },
        "id": "4JD7g0eowXAT",
        "outputId": "5b059a69-4460-408f-be49-64576e065210"
      },
      "source": [
        "!pip install helper\n",
        "!pip install twython\n",
        "!pip install -U py_search\n",
        "!pip install lyricsgenius"
      ],
      "execution_count": null,
      "outputs": [
        {
          "output_type": "stream",
          "text": [
            "Collecting helper\n",
            "  Downloading https://files.pythonhosted.org/packages/0b/c2/b4e0286e492b4551c1890a7445a1b85f3f10032673566d4c20c14dd0a280/helper-2.5.0.tar.gz\n",
            "Requirement already satisfied: pyyaml in /usr/local/lib/python3.7/dist-packages (from helper) (3.13)\n",
            "Building wheels for collected packages: helper\n",
            "  Building wheel for helper (setup.py) ... \u001b[?25l\u001b[?25hdone\n",
            "  Created wheel for helper: filename=helper-2.5.0-py2.py3-none-any.whl size=19158 sha256=f0ea550d45a72c5289ac1b934ccc13eba0ae06c0addc05192fd065847a43b3c1\n",
            "  Stored in directory: /root/.cache/pip/wheels/18/de/25/a8d15addb213a842c551d25dd9994aebc1e4dd97f7c681e0ea\n",
            "Successfully built helper\n",
            "Installing collected packages: helper\n",
            "Successfully installed helper-2.5.0\n",
            "Collecting twython\n",
            "  Downloading https://files.pythonhosted.org/packages/24/80/579b96dfaa9b536efde883d4f0df7ea2598a6f3117a6dd572787f4a2bcfb/twython-3.8.2-py3-none-any.whl\n",
            "Requirement already satisfied: requests>=2.1.0 in /usr/local/lib/python3.7/dist-packages (from twython) (2.23.0)\n",
            "Requirement already satisfied: requests-oauthlib>=0.4.0 in /usr/local/lib/python3.7/dist-packages (from twython) (1.3.0)\n",
            "Requirement already satisfied: idna<3,>=2.5 in /usr/local/lib/python3.7/dist-packages (from requests>=2.1.0->twython) (2.10)\n",
            "Requirement already satisfied: certifi>=2017.4.17 in /usr/local/lib/python3.7/dist-packages (from requests>=2.1.0->twython) (2020.12.5)\n",
            "Requirement already satisfied: chardet<4,>=3.0.2 in /usr/local/lib/python3.7/dist-packages (from requests>=2.1.0->twython) (3.0.4)\n",
            "Requirement already satisfied: urllib3!=1.25.0,!=1.25.1,<1.26,>=1.21.1 in /usr/local/lib/python3.7/dist-packages (from requests>=2.1.0->twython) (1.24.3)\n",
            "Requirement already satisfied: oauthlib>=3.0.0 in /usr/local/lib/python3.7/dist-packages (from requests-oauthlib>=0.4.0->twython) (3.1.0)\n",
            "Installing collected packages: twython\n",
            "Successfully installed twython-3.8.2\n",
            "Collecting py_search\n",
            "  Downloading https://files.pythonhosted.org/packages/f6/85/b44864de9c3c4e023c0b1be4e7dc292fc448339ac150aa19cfba739669ae/py_search-2.8.0-py2.py3-none-any.whl\n",
            "Requirement already satisfied, skipping upgrade: tabulate in /usr/local/lib/python3.7/dist-packages (from py_search) (0.8.9)\n",
            "Collecting munkres\n",
            "  Downloading https://files.pythonhosted.org/packages/90/ab/0301c945a704218bc9435f0e3c88884f6b19ef234d8899fb47ce1ccfd0c9/munkres-1.1.4-py2.py3-none-any.whl\n",
            "Installing collected packages: munkres, py-search\n",
            "Successfully installed munkres-1.1.4 py-search-2.8.0\n",
            "Collecting lyricsgenius\n",
            "\u001b[?25l  Downloading https://files.pythonhosted.org/packages/09/60/94f2d049789f8e44634703468ec7d752e894a358dac337d138c2b45c190d/lyricsgenius-3.0.0-py3-none-any.whl (59kB)\n",
            "\u001b[K     |████████████████████████████████| 61kB 3.3MB/s \n",
            "\u001b[?25hRequirement already satisfied: requests>=2.20.0 in /usr/local/lib/python3.7/dist-packages (from lyricsgenius) (2.23.0)\n",
            "Requirement already satisfied: beautifulsoup4>=4.6.0 in /usr/local/lib/python3.7/dist-packages (from lyricsgenius) (4.6.3)\n",
            "Requirement already satisfied: urllib3!=1.25.0,!=1.25.1,<1.26,>=1.21.1 in /usr/local/lib/python3.7/dist-packages (from requests>=2.20.0->lyricsgenius) (1.24.3)\n",
            "Requirement already satisfied: chardet<4,>=3.0.2 in /usr/local/lib/python3.7/dist-packages (from requests>=2.20.0->lyricsgenius) (3.0.4)\n",
            "Requirement already satisfied: idna<3,>=2.5 in /usr/local/lib/python3.7/dist-packages (from requests>=2.20.0->lyricsgenius) (2.10)\n",
            "Requirement already satisfied: certifi>=2017.4.17 in /usr/local/lib/python3.7/dist-packages (from requests>=2.20.0->lyricsgenius) (2020.12.5)\n",
            "Installing collected packages: lyricsgenius\n",
            "Successfully installed lyricsgenius-3.0.0\n"
          ],
          "name": "stdout"
        }
      ]
    },
    {
      "cell_type": "code",
      "metadata": {
        "id": "G68otmU4wXM8"
      },
      "source": [
        "#libraries used to extract, clean and manipulate the data\n",
        "#from helpers import *\n",
        "import pandas as pd \n",
        "import numpy as np\n",
        "import string\n",
        "import requests\n",
        "\n",
        "#To plot the graphs\n",
        "from wordcloud import WordCloud\n",
        "import matplotlib.pyplot as plt\n",
        "plt.style.use('seaborn')\n",
        "\n",
        "#library used to count the frequency of words\n",
        "from sklearn.feature_extraction.text import CountVectorizer\n",
        "\n",
        "#To create the sentiment analysis model, tokenization and lemmatization\n",
        "import nltk\n",
        "from nltk.sentiment.vader import SentimentIntensityAnalyzer\n",
        "from nltk import word_tokenize\n",
        "import nltk.data\n",
        "#nltk.download('vader_lexicon')\n",
        "#nltk.download('punkt')"
      ],
      "execution_count": null,
      "outputs": []
    },
    {
      "cell_type": "code",
      "metadata": {
        "id": "_KBD2Jqo2psQ"
      },
      "source": [
        "import lyricsgenius as genius\n",
        "import pandas as pd\n",
        "import string \n",
        "\n",
        "import nltk\n",
        "from nltk.tokenize import word_tokenize\n",
        "from nltk.stem import WordNetLemmatizer \n",
        "from nltk.corpus import stopwords\n",
        "#nltk.download('stopwords')\n",
        "#nltk.download('wordnet')   \n",
        "api = genius.Genius(access_token)\n",
        "\n",
        "\n",
        "def search_data(query,n,access_token):\n",
        "    \"\"\"\n",
        "    This function uses the library lyricsgenius to extract the fields\n",
        "    title, artist, album, date and lyrics and stores them into a pandas dataframe\n",
        "    parameters:\n",
        "    query = artist or band to search\n",
        "    n = max numbers of songs\n",
        "    access_token = your access token of the genius api\n",
        "    \"\"\"\n",
        "    \n",
        "    api = genius.Genius(access_token)\n",
        "\n",
        "    list_lyrics = []\n",
        "    list_title = []\n",
        "    list_artist = []\n",
        "    list_album = []\n",
        "    #list_year = []\n",
        "\n",
        "    artist = api.search_artist(query,max_songs=n,sort='popularity')\n",
        "    songs = artist.songs\n",
        "    for song in songs:\n",
        "        list_lyrics.append(song.lyrics)\n",
        "        list_title.append(song.title)\n",
        "        list_artist.append(song.artist)\n",
        "        #list_album.append(song.album)\n",
        "        #list_year.append(song.year)\n",
        "\n",
        "    #df = pd.DataFrame({'artist':list_artist,'title':list_title,'album':list_album,\n",
        "                        #'date':list_year,'lyric':list_lyrics})\n",
        "    df = pd.DataFrame({'artist':list_artist,'title':list_title,'lyric':list_lyrics})\n",
        "    \n",
        "    return df\n",
        "\n",
        "\n",
        "def search_data_per_album(albumsongs,query):\n",
        "    \"\"\"\n",
        "    This function uses the library lyricsgenius to extract the fields\n",
        "    title, artist, album, date and lyrics and stores them into a pandas dataframe\n",
        "    parameters:\n",
        "    query = artist or band to search\n",
        "    n = max numbers of songs\n",
        "    access_token = your access token of the genius api\n",
        "    \"\"\"\n",
        "    \n",
        "    api = genius.Genius(access_token)\n",
        "\n",
        "    list_lyrics = []\n",
        "    list_title = []\n",
        "    list_artist = []\n",
        "    list_album = []\n",
        "    list_year = []\n",
        "    \n",
        "    album = api.search_album(query,albumsongs)\n",
        "\n",
        "    #artist = api.search_artist(query,max_songs=n,sort='popularity')\n",
        "    songs = album.songs\n",
        "    for song in songs:\n",
        "        list_lyrics.append(song.lyrics)\n",
        "        list_title.append(song.title)\n",
        "        list_artist.append(song.artist)\n",
        "        list_album.append(song.album)\n",
        "        list_year.append(song.year)\n",
        "\n",
        "    df1 = pd.DataFrame({'artist':list_artist,'title':list_title,'album':list_album,\n",
        "                        'date':list_year,'lyric':list_lyrics})\n",
        "    #df1 = pd.DataFrame({'artist':list_artist,'title':list_title,'lyric':list_lyrics})\n",
        "    \n",
        "    return df1\n",
        "\n",
        "    album.save_lyrics()\n"
      ],
      "execution_count": null,
      "outputs": []
    },
    {
      "cell_type": "code",
      "metadata": {
        "id": "Xcj-F8rxo7zT"
      },
      "source": [
        "access_token = '48AbSrGnLHR79u6TgoSWikB1-dd779xB-2MZmPXSavrvOVDMo8pZYz7OP1Mjk6-B'\n"
      ],
      "execution_count": null,
      "outputs": []
    },
    {
      "cell_type": "code",
      "metadata": {
        "id": "fZKscq3Z2z22",
        "colab": {
          "base_uri": "https://localhost:8080/"
        },
        "outputId": "855605d0-2c6a-419c-92e7-0835b402fb3b"
      },
      "source": [
        "df0 = search_data('U2',15,access_token)"
      ],
      "execution_count": null,
      "outputs": [
        {
          "output_type": "stream",
          "text": [
            "Searching for songs by U2...\n",
            "\n",
            "Song 1: \"One\"\n",
            "Song 2: \"With or Without You\"\n",
            "Song 3: \"I Still Haven’t Found What I’m Looking For\"\n",
            "Song 4: \"Sunday Bloody Sunday\"\n",
            "Song 5: \"Pride (In the Name of Love)\"\n",
            "Song 6: \"Beautiful Day\"\n",
            "Song 7: \"Get Out of Your Own Way\"\n",
            "Song 8: \"Song for Someone\"\n",
            "Song 9: \"Every Breaking Wave\"\n",
            "Song 10: \"Where the Streets Have No Name\"\n",
            "Song 11: \"You’re the Best Thing About Me\"\n",
            "Song 12: \"The Troubles\"\n",
            "Song 13: \"Ordinary Love\"\n",
            "Song 14: \"Vertigo\"\n",
            "Song 15: \"New Year’s Day\"\n",
            "\n",
            "Reached user-specified song limit (15).\n",
            "Done. Found 15 songs.\n"
          ],
          "name": "stdout"
        }
      ]
    },
    {
      "cell_type": "code",
      "metadata": {
        "id": "iEgXXbYg3w25",
        "colab": {
          "base_uri": "https://localhost:8080/",
          "height": 189
        },
        "outputId": "74c1f428-6d3f-447b-8d70-85bb70f7792a"
      },
      "source": [
        "df0.head()"
      ],
      "execution_count": null,
      "outputs": [
        {
          "output_type": "execute_result",
          "data": {
            "text/html": [
              "<div>\n",
              "<style scoped>\n",
              "    .dataframe tbody tr th:only-of-type {\n",
              "        vertical-align: middle;\n",
              "    }\n",
              "\n",
              "    .dataframe tbody tr th {\n",
              "        vertical-align: top;\n",
              "    }\n",
              "\n",
              "    .dataframe thead th {\n",
              "        text-align: right;\n",
              "    }\n",
              "</style>\n",
              "<table border=\"1\" class=\"dataframe\">\n",
              "  <thead>\n",
              "    <tr style=\"text-align: right;\">\n",
              "      <th></th>\n",
              "      <th>artist</th>\n",
              "      <th>title</th>\n",
              "      <th>lyric</th>\n",
              "    </tr>\n",
              "  </thead>\n",
              "  <tbody>\n",
              "    <tr>\n",
              "      <th>0</th>\n",
              "      <td>U2</td>\n",
              "      <td>One</td>\n",
              "      <td>[Verse 1]\\nIs it getting better\\nOr do you fee...</td>\n",
              "    </tr>\n",
              "    <tr>\n",
              "      <th>1</th>\n",
              "      <td>U2</td>\n",
              "      <td>With or Without You</td>\n",
              "      <td>[Verse 1]\\nSee the stone set in your eyes\\nSee...</td>\n",
              "    </tr>\n",
              "    <tr>\n",
              "      <th>2</th>\n",
              "      <td>U2</td>\n",
              "      <td>I Still Haven’t Found What I’m Looking For</td>\n",
              "      <td>[Verse 1]\\nI have climbed the highest mountain...</td>\n",
              "    </tr>\n",
              "    <tr>\n",
              "      <th>3</th>\n",
              "      <td>U2</td>\n",
              "      <td>Sunday Bloody Sunday</td>\n",
              "      <td>[Instrumental Intro]\\n\\n[Verse 1]\\nI can't bel...</td>\n",
              "    </tr>\n",
              "    <tr>\n",
              "      <th>4</th>\n",
              "      <td>U2</td>\n",
              "      <td>Pride (In the Name of Love)</td>\n",
              "      <td>[Verse 1]\\nOne man come in the name of love\\nO...</td>\n",
              "    </tr>\n",
              "  </tbody>\n",
              "</table>\n",
              "</div>"
            ],
            "text/plain": [
              "  artist  ...                                              lyric\n",
              "0     U2  ...  [Verse 1]\\nIs it getting better\\nOr do you fee...\n",
              "1     U2  ...  [Verse 1]\\nSee the stone set in your eyes\\nSee...\n",
              "2     U2  ...  [Verse 1]\\nI have climbed the highest mountain...\n",
              "3     U2  ...  [Instrumental Intro]\\n\\n[Verse 1]\\nI can't bel...\n",
              "4     U2  ...  [Verse 1]\\nOne man come in the name of love\\nO...\n",
              "\n",
              "[5 rows x 3 columns]"
            ]
          },
          "metadata": {
            "tags": []
          },
          "execution_count": 51
        }
      ]
    },
    {
      "cell_type": "code",
      "metadata": {
        "colab": {
          "base_uri": "https://localhost:8080/"
        },
        "id": "8J8V67eWndxF",
        "outputId": "408a7eb7-905c-464b-f534-dc49e7a35570"
      },
      "source": [
        "df1=search_data('Damien Rice',15,access_token)"
      ],
      "execution_count": null,
      "outputs": [
        {
          "output_type": "stream",
          "text": [
            "Searching for songs by Damien Rice...\n",
            "\n",
            "Song 1: \"The Blower’s Daughter\"\n",
            "Song 2: \"9 Crimes\"\n",
            "Song 3: \"Delicate\"\n",
            "Song 4: \"It Takes a Lot to Know a Man\"\n",
            "Song 5: \"I Don’t Want to Change You\"\n",
            "Song 6: \"Volcano\"\n",
            "Song 7: \"Cannonball\"\n",
            "Song 8: \"Cheers Darlin’\"\n",
            "Song 9: \"Back To Her Man\"\n",
            "Song 10: \"Elephant\"\n",
            "Song 11: \"My Favourite Faded Fantasy\"\n",
            "Song 12: \"The Greatest Bastard\"\n",
            "Song 13: \"Colour Me In\"\n",
            "Song 14: \"The Professor & La Fille Danse\"\n",
            "Song 15: \"Accidental Babies\"\n",
            "\n",
            "Reached user-specified song limit (15).\n",
            "Done. Found 15 songs.\n"
          ],
          "name": "stdout"
        }
      ]
    },
    {
      "cell_type": "code",
      "metadata": {
        "colab": {
          "base_uri": "https://localhost:8080/"
        },
        "id": "4PpJYaL0EIys",
        "outputId": "be08cd9c-7e7e-4667-9a73-09c43933d261"
      },
      "source": [
        "df2=search_data('Alanis Morissete',15,access_token)"
      ],
      "execution_count": null,
      "outputs": [
        {
          "output_type": "stream",
          "text": [
            "Searching for songs by Alanis Morissete...\n",
            "\n",
            "Changing artist name to 'Alanis Morissette'\n",
            "Song 1: \"Ironic\"\n",
            "Song 2: \"You Oughta Know\"\n",
            "Song 3: \"Hand in My Pocket\"\n",
            "Song 4: \"Thank U\"\n",
            "Song 5: \"Ablaze\"\n",
            "Song 6: \"​Reasons I Drink\"\n",
            "Song 7: \"Head Over Feet\"\n",
            "Song 8: \"You Learn\"\n",
            "Song 9: \"All I Really Want\"\n",
            "Song 10: \"Uninvited\"\n",
            "Song 11: \"Hands Clean\"\n",
            "Song 12: \"Smiling\"\n",
            "Song 13: \"Right Through You\"\n",
            "Song 14: \"Forgiven\"\n",
            "Song 15: \"Perfect\"\n",
            "\n",
            "Reached user-specified song limit (15).\n",
            "Done. Found 15 songs.\n"
          ],
          "name": "stdout"
        }
      ]
    },
    {
      "cell_type": "code",
      "metadata": {
        "id": "w1IhpqfZDcae"
      },
      "source": [
        "frames = [df0,df1,df2]\n",
        "result = pd.concat(frames,ignore_index=True, sort=False)"
      ],
      "execution_count": null,
      "outputs": []
    },
    {
      "cell_type": "code",
      "metadata": {
        "colab": {
          "base_uri": "https://localhost:8080/",
          "height": 331
        },
        "id": "vfI1kGeaDuUx",
        "outputId": "06212a8c-a237-460e-f89d-85b27abfcd56"
      },
      "source": [
        "result.tail(10)"
      ],
      "execution_count": null,
      "outputs": [
        {
          "output_type": "execute_result",
          "data": {
            "text/html": [
              "<div>\n",
              "<style scoped>\n",
              "    .dataframe tbody tr th:only-of-type {\n",
              "        vertical-align: middle;\n",
              "    }\n",
              "\n",
              "    .dataframe tbody tr th {\n",
              "        vertical-align: top;\n",
              "    }\n",
              "\n",
              "    .dataframe thead th {\n",
              "        text-align: right;\n",
              "    }\n",
              "</style>\n",
              "<table border=\"1\" class=\"dataframe\">\n",
              "  <thead>\n",
              "    <tr style=\"text-align: right;\">\n",
              "      <th></th>\n",
              "      <th>artist</th>\n",
              "      <th>title</th>\n",
              "      <th>lyric</th>\n",
              "    </tr>\n",
              "  </thead>\n",
              "  <tbody>\n",
              "    <tr>\n",
              "      <th>35</th>\n",
              "      <td>Alanis Morissette</td>\n",
              "      <td>​Reasons I Drink</td>\n",
              "      <td>[Verse 1]\\nThese are the reasons I drink\\nThe ...</td>\n",
              "    </tr>\n",
              "    <tr>\n",
              "      <th>36</th>\n",
              "      <td>Alanis Morissette</td>\n",
              "      <td>Head Over Feet</td>\n",
              "      <td>[Verse 1]\\nI had no choice but to hear you\\nYo...</td>\n",
              "    </tr>\n",
              "    <tr>\n",
              "      <th>37</th>\n",
              "      <td>Alanis Morissette</td>\n",
              "      <td>You Learn</td>\n",
              "      <td>[Verse 1]\\nI recommend getting your heart tram...</td>\n",
              "    </tr>\n",
              "    <tr>\n",
              "      <th>38</th>\n",
              "      <td>Alanis Morissette</td>\n",
              "      <td>All I Really Want</td>\n",
              "      <td>[Verse 1]\\nDo I stress you out?\\nMy sweater is...</td>\n",
              "    </tr>\n",
              "    <tr>\n",
              "      <th>39</th>\n",
              "      <td>Alanis Morissette</td>\n",
              "      <td>Uninvited</td>\n",
              "      <td>[Verse 1]\\nLike anyone would be\\nI am flattere...</td>\n",
              "    </tr>\n",
              "    <tr>\n",
              "      <th>40</th>\n",
              "      <td>Alanis Morissette</td>\n",
              "      <td>Hands Clean</td>\n",
              "      <td>[Verse 1]\\nIf it weren't for your maturity, no...</td>\n",
              "    </tr>\n",
              "    <tr>\n",
              "      <th>41</th>\n",
              "      <td>Alanis Morissette</td>\n",
              "      <td>Smiling</td>\n",
              "      <td>[Verse 1]\\nThis is a life of extremes\\nBoth si...</td>\n",
              "    </tr>\n",
              "    <tr>\n",
              "      <th>42</th>\n",
              "      <td>Alanis Morissette</td>\n",
              "      <td>Right Through You</td>\n",
              "      <td>[Verse 1]\\nWait a minute, man\\nYou mispronounc...</td>\n",
              "    </tr>\n",
              "    <tr>\n",
              "      <th>43</th>\n",
              "      <td>Alanis Morissette</td>\n",
              "      <td>Forgiven</td>\n",
              "      <td>[Verse 1]\\nYou know how us Catholic girls can ...</td>\n",
              "    </tr>\n",
              "    <tr>\n",
              "      <th>44</th>\n",
              "      <td>Alanis Morissette</td>\n",
              "      <td>Perfect</td>\n",
              "      <td>[Verse 1]\\nSometimes is never quite enough\\nIf...</td>\n",
              "    </tr>\n",
              "  </tbody>\n",
              "</table>\n",
              "</div>"
            ],
            "text/plain": [
              "               artist  ...                                              lyric\n",
              "35  Alanis Morissette  ...  [Verse 1]\\nThese are the reasons I drink\\nThe ...\n",
              "36  Alanis Morissette  ...  [Verse 1]\\nI had no choice but to hear you\\nYo...\n",
              "37  Alanis Morissette  ...  [Verse 1]\\nI recommend getting your heart tram...\n",
              "38  Alanis Morissette  ...  [Verse 1]\\nDo I stress you out?\\nMy sweater is...\n",
              "39  Alanis Morissette  ...  [Verse 1]\\nLike anyone would be\\nI am flattere...\n",
              "40  Alanis Morissette  ...  [Verse 1]\\nIf it weren't for your maturity, no...\n",
              "41  Alanis Morissette  ...  [Verse 1]\\nThis is a life of extremes\\nBoth si...\n",
              "42  Alanis Morissette  ...  [Verse 1]\\nWait a minute, man\\nYou mispronounc...\n",
              "43  Alanis Morissette  ...  [Verse 1]\\nYou know how us Catholic girls can ...\n",
              "44  Alanis Morissette  ...  [Verse 1]\\nSometimes is never quite enough\\nIf...\n",
              "\n",
              "[10 rows x 3 columns]"
            ]
          },
          "metadata": {
            "tags": []
          },
          "execution_count": 80
        }
      ]
    },
    {
      "cell_type": "code",
      "metadata": {
        "colab": {
          "base_uri": "https://localhost:8080/"
        },
        "id": "Xp5XHMn2yT6-",
        "outputId": "f79e93a6-e46c-4e40-b2db-17f1af080817"
      },
      "source": [
        "album1 = api.search_album(\"Songs of Innocence\", \"U2\")\n",
        "album1.save_lyrics()\n",
        " "
      ],
      "execution_count": null,
      "outputs": [
        {
          "output_type": "stream",
          "text": [
            "Searching for \"Songs of Innocence\" by U2...\n",
            "Lyrics_SongsofInnocence.json already exists. Overwrite?\n",
            "(y/n): y\n",
            "Wrote Lyrics_SongsofInnocence.json.\n"
          ],
          "name": "stdout"
        }
      ]
    },
    {
      "cell_type": "code",
      "metadata": {
        "id": "-IvQnO8ODZTf"
      },
      "source": [
        ""
      ],
      "execution_count": null,
      "outputs": []
    },
    {
      "cell_type": "code",
      "metadata": {
        "id": "uBTkMLfvDgTc"
      },
      "source": [
        ""
      ],
      "execution_count": null,
      "outputs": []
    },
    {
      "cell_type": "code",
      "metadata": {
        "id": "VdBUXwrx0sMH"
      },
      "source": [
        ""
      ],
      "execution_count": null,
      "outputs": []
    }
  ]
}