{
  "nbformat": 4,
  "nbformat_minor": 0,
  "metadata": {
    "colab": {
      "provenance": [],
      "collapsed_sections": [],
      "authorship_tag": "ABX9TyO78HRcBhTT+tOL7VlubohY",
      "include_colab_link": true
    },
    "kernelspec": {
      "name": "python3",
      "display_name": "Python 3"
    },
    "language_info": {
      "name": "python"
    }
  },
  "cells": [
    {
      "cell_type": "markdown",
      "metadata": {
        "id": "view-in-github",
        "colab_type": "text"
      },
      "source": [
        "<a href=\"https://colab.research.google.com/github/descandon88/lyric-sentiment-analysis/blob/main/Eigenvectors_and_Eigenvalues.ipynb\" target=\"_parent\"><img src=\"https://colab.research.google.com/assets/colab-badge.svg\" alt=\"Open In Colab\"/></a>"
      ]
    },
    {
      "cell_type": "code",
      "execution_count": 2,
      "metadata": {
        "id": "oAy5dhcyMIgp"
      },
      "outputs": [],
      "source": [
        "import numpy as np\n",
        "import pandas as pd"
      ]
    },
    {
      "cell_type": "markdown",
      "source": [
        "**Eigenvectors and Eigenvalues**"
      ],
      "metadata": {
        "id": "pNNU7fGVMQPI"
      }
    },
    {
      "cell_type": "markdown",
      "source": [
        "An **eigenvector** is a special vector *v* such that when it is transformed by some matrix (let's say *A*), the product Av has the exact same direction as *v*.\n",
        "\n",
        "An **eigenvalue** is a scalar (tradicional represented as λ) that simply scales the eigenvector v such that the following equation is satisfied: \n",
        "\n",
        "*A*𝓥 = 𝝀𝓥\n",
        "\n"
      ],
      "metadata": {
        "id": "vpTmJN_kMU5_"
      }
    },
    {
      "cell_type": "code",
      "source": [
        "A = ([-1,4],[2,-2])\n",
        "A"
      ],
      "metadata": {
        "colab": {
          "base_uri": "https://localhost:8080/"
        },
        "id": "DQz-8dXWMQyv",
        "outputId": "122ddc7e-b3e9-4e6b-de8b-c30730bc205e"
      },
      "execution_count": 3,
      "outputs": [
        {
          "output_type": "execute_result",
          "data": {
            "text/plain": [
              "([-1, 4], [2, -2])"
            ]
          },
          "metadata": {},
          "execution_count": 3
        }
      ]
    },
    {
      "cell_type": "markdown",
      "source": [
        "**Eigenvector** and **eigenvalues** can be derived algebraically (e.g., with QR algorithm, which was independently developed in the 1950s by both Vera Kublanovskaya and John Francis), however this is outside scope of today's class. We-ll cheat with numpy eig()"
      ],
      "metadata": {
        "id": "SDlwDbobOBxW"
      }
    },
    {
      "cell_type": "code",
      "source": [
        "lambdas, V = np.linalg.eig(A)"
      ],
      "metadata": {
        "id": "tSX8W0QyNIWs"
      },
      "execution_count": 4,
      "outputs": []
    },
    {
      "cell_type": "markdown",
      "source": [
        "The matrix contains as many eigenvectors as there are columns of A: "
      ],
      "metadata": {
        "id": "l1NwG60xQLCI"
      }
    },
    {
      "cell_type": "code",
      "source": [
        "V # cada columna es un eigenvector v separado"
      ],
      "metadata": {
        "colab": {
          "base_uri": "https://localhost:8080/"
        },
        "id": "f3nzMWI1NM4i",
        "outputId": "58c13091-5d9e-4dbb-872f-4c93366d0517"
      },
      "execution_count": 5,
      "outputs": [
        {
          "output_type": "execute_result",
          "data": {
            "text/plain": [
              "array([[ 0.86011126, -0.76454754],\n",
              "       [ 0.51010647,  0.64456735]])"
            ]
          },
          "metadata": {},
          "execution_count": 5
        }
      ]
    },
    {
      "cell_type": "markdown",
      "source": [
        "With a corresponding eigenvalue for each eigenvector:"
      ],
      "metadata": {
        "id": "RE7Y_-ETP-3z"
      }
    },
    {
      "cell_type": "code",
      "source": [
        "lambdas"
      ],
      "metadata": {
        "colab": {
          "base_uri": "https://localhost:8080/"
        },
        "id": "MSOOa4kVP97i",
        "outputId": "82d0c62a-93b8-4595-d3f7-e64f8476accc"
      },
      "execution_count": 6,
      "outputs": [
        {
          "output_type": "execute_result",
          "data": {
            "text/plain": [
              "array([ 1.37228132, -4.37228132])"
            ]
          },
          "metadata": {},
          "execution_count": 6
        }
      ]
    },
    {
      "cell_type": "markdown",
      "source": [
        "Let's confirm that  *A*𝓥 = 𝝀𝓥 for the  first eigenvector:\n"
      ],
      "metadata": {
        "id": "XAzlgqofQKSV"
      }
    },
    {
      "cell_type": "code",
      "source": [
        "v = V[:,0]\n",
        "v"
      ],
      "metadata": {
        "colab": {
          "base_uri": "https://localhost:8080/"
        },
        "id": "HLxR8dGmQIoo",
        "outputId": "938ccc9f-2922-4d2d-a4be-8fcb408a3fe8"
      },
      "execution_count": 8,
      "outputs": [
        {
          "output_type": "execute_result",
          "data": {
            "text/plain": [
              "array([0.86011126, 0.51010647])"
            ]
          },
          "metadata": {},
          "execution_count": 8
        }
      ]
    },
    {
      "cell_type": "code",
      "source": [
        "lambduh = lambdas[0] # note that lambda is reserved term in Python \n",
        "lambduh"
      ],
      "metadata": {
        "colab": {
          "base_uri": "https://localhost:8080/"
        },
        "id": "doRgSIA2TOVH",
        "outputId": "ffa4256a-4c9d-40e8-dabb-408ddcb7d583"
      },
      "execution_count": 9,
      "outputs": [
        {
          "output_type": "execute_result",
          "data": {
            "text/plain": [
              "1.3722813232690143"
            ]
          },
          "metadata": {},
          "execution_count": 9
        }
      ]
    },
    {
      "cell_type": "code",
      "source": [],
      "metadata": {
        "id": "KoAg5Bk3TepU"
      },
      "execution_count": null,
      "outputs": []
    },
    {
      "cell_type": "markdown",
      "source": [],
      "metadata": {
        "id": "AzandVI2TePv"
      }
    }
  ]
}